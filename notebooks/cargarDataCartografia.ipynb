{
 "cells": [
  {
   "cell_type": "code",
   "execution_count": 1,
   "metadata": {
    "collapsed": true
   },
   "outputs": [],
   "source": [
    "import pandas as pd\n",
    "import geopandas as gpd\n",
    "import matplotlib.pyplot as plt\n",
    "%matplotlib inline\n",
    "\n",
    "plt.rcParams['figure.figsize'] = (10.0, 10.0)\n"
   ]
  },
  {
   "cell_type": "code",
   "execution_count": 2,
   "metadata": {
    "collapsed": true
   },
   "outputs": [],
   "source": [
    "import pandas as pd\n",
    "import pysal as ps\n",
    "import numpy as np\n",
    "'''\n",
    "Arguments\n",
    "---------\n",
    "dbfile  : DBF file - Input to be imported\n",
    "upper   : Condition - If true, make column heads upper case\n",
    "'''\n",
    "def dbf2DF(dbfile, upper=True): #Reads in DBF files and returns Pandas DF\n",
    "    db = ps.open(dbfile) #Pysal to open DBF\n",
    "    d = {col: db.by_col(col) for col in db.header} #Convert dbf to dictionary\n",
    "    pandasDF = pd.DataFrame(db[:]) #Convert to Pandas DF\n",
    "    pandasDF.columns=db.header\n",
    "    pandasDF.dropna(inplace=True)\n",
    "    return pandasDF\n",
    "\n",
    "def getPercent(dataset,string):\n",
    "    '''\n",
    "    Arguments\n",
    "    ---------\n",
    "    dataset  : pandas datafra- Input to produce the % column on\n",
    "    string   : String or list of strings - variable or variables to convert to %\n",
    "    '''\n",
    "    mask = (dataset.iloc[:,dataset.shape[1]-1] == 0)\n",
    "    dataset = dataset.loc[~mask,:]\n",
    "    variable = np.zeros(dataset.shape[0])\n",
    "    \n",
    "    #if me need to aggregate more columns in the same category:\n",
    "    if len(string) > 1:\n",
    "        variable = dataset.loc[:,string].sum(axis=1)\n",
    "        \n",
    "    else:\n",
    "        variable = dataset[string].iloc[:,0]\n",
    "    \n",
    "    newVariableName = string[0].split('_')[0]\n",
    "    \n",
    "    dataset[newVariableName + '_p'] = variable/dataset.iloc[:,dataset.shape[1]-1] * 100\n",
    "    dataset[newVariableName + '_p'] = dataset[newVariableName + '_p'].map(lambda x: round(x,1))\n",
    "    dataset = dataset.loc[:,['REDCODE',newVariableName + '_p']]\n",
    "    dataset.dropna(inplace=True)\n",
    "    try:\n",
    "        dataset[newVariableName + '_q'] = pd.qcut(dataset[newVariableName + '_p'], 10,labels=False)\n",
    "        dataset[newVariableName + '_q'] = dataset[newVariableName + '_q'].map(lambda x: int(x))\n",
    "        return dataset\n",
    "    except ValueError:\n",
    "        print 'Can not be cut in 10 quantiles'"
   ]
  },
  {
   "cell_type": "markdown",
   "metadata": {},
   "source": [
    "# Cargo data"
   ]
  },
  {
   "cell_type": "code",
   "execution_count": 3,
   "metadata": {
    "collapsed": false
   },
   "outputs": [
    {
     "name": "stdout",
     "output_type": "stream",
     "text": [
      "hay 52382 radios en el DBF de REDATAM\n"
     ]
    },
    {
     "data": {
      "text/html": [
       "<div>\n",
       "<table border=\"1\" class=\"dataframe\">\n",
       "  <thead>\n",
       "    <tr style=\"text-align: right;\">\n",
       "      <th></th>\n",
       "      <th>REDCODE</th>\n",
       "      <th>MNI_1</th>\n",
       "      <th>MNI_2</th>\n",
       "      <th>MNI_3</th>\n",
       "      <th>MNI_4</th>\n",
       "      <th>MNI_5</th>\n",
       "      <th>MNI_6</th>\n",
       "      <th>MNI_7</th>\n",
       "      <th>MNI_8</th>\n",
       "      <th>MNI_9</th>\n",
       "      <th>MNI_T</th>\n",
       "    </tr>\n",
       "  </thead>\n",
       "  <tbody>\n",
       "    <tr>\n",
       "      <th>0</th>\n",
       "      <td>020010101</td>\n",
       "      <td>11</td>\n",
       "      <td>31</td>\n",
       "      <td>39</td>\n",
       "      <td>73</td>\n",
       "      <td>51</td>\n",
       "      <td>15</td>\n",
       "      <td>8</td>\n",
       "      <td>12</td>\n",
       "      <td>16</td>\n",
       "      <td>256</td>\n",
       "    </tr>\n",
       "    <tr>\n",
       "      <th>1</th>\n",
       "      <td>020010201</td>\n",
       "      <td>23</td>\n",
       "      <td>81</td>\n",
       "      <td>106</td>\n",
       "      <td>64</td>\n",
       "      <td>118</td>\n",
       "      <td>4</td>\n",
       "      <td>7</td>\n",
       "      <td>6</td>\n",
       "      <td>11</td>\n",
       "      <td>420</td>\n",
       "    </tr>\n",
       "    <tr>\n",
       "      <th>2</th>\n",
       "      <td>020010202</td>\n",
       "      <td>24</td>\n",
       "      <td>72</td>\n",
       "      <td>103</td>\n",
       "      <td>46</td>\n",
       "      <td>89</td>\n",
       "      <td>2</td>\n",
       "      <td>7</td>\n",
       "      <td>2</td>\n",
       "      <td>6</td>\n",
       "      <td>351</td>\n",
       "    </tr>\n",
       "    <tr>\n",
       "      <th>3</th>\n",
       "      <td>020010203</td>\n",
       "      <td>21</td>\n",
       "      <td>52</td>\n",
       "      <td>67</td>\n",
       "      <td>44</td>\n",
       "      <td>88</td>\n",
       "      <td>5</td>\n",
       "      <td>6</td>\n",
       "      <td>3</td>\n",
       "      <td>14</td>\n",
       "      <td>300</td>\n",
       "    </tr>\n",
       "    <tr>\n",
       "      <th>4</th>\n",
       "      <td>020010204</td>\n",
       "      <td>28</td>\n",
       "      <td>78</td>\n",
       "      <td>148</td>\n",
       "      <td>74</td>\n",
       "      <td>179</td>\n",
       "      <td>7</td>\n",
       "      <td>6</td>\n",
       "      <td>1</td>\n",
       "      <td>22</td>\n",
       "      <td>543</td>\n",
       "    </tr>\n",
       "  </tbody>\n",
       "</table>\n",
       "</div>"
      ],
      "text/plain": [
       "     REDCODE  MNI_1  MNI_2  MNI_3  MNI_4  MNI_5  MNI_6  MNI_7  MNI_8  MNI_9  \\\n",
       "0  020010101     11     31     39     73     51     15      8     12     16   \n",
       "1  020010201     23     81    106     64    118      4      7      6     11   \n",
       "2  020010202     24     72    103     46     89      2      7      2      6   \n",
       "3  020010203     21     52     67     44     88      5      6      3     14   \n",
       "4  020010204     28     78    148     74    179      7      6      1     22   \n",
       "\n",
       "   MNI_T  \n",
       "0    256  \n",
       "1    420  \n",
       "2    351  \n",
       "3    300  \n",
       "4    543  "
      ]
     },
     "execution_count": 3,
     "metadata": {},
     "output_type": "execute_result"
    }
   ],
   "source": [
    "#chequeo cuantos radios coinciden \n",
    "radiosRedatam = dbf2DF('data/redatam/MNI.DBF')\n",
    "print 'hay %d radios en el DBF de REDATAM' % (radiosRedatam.shape[0])\n",
    "radiosRedatam.head()"
   ]
  },
  {
   "cell_type": "code",
   "execution_count": 4,
   "metadata": {
    "collapsed": false
   },
   "outputs": [
    {
     "name": "stderr",
     "output_type": "stream",
     "text": [
      "/home/pipe/anaconda2/lib/python2.7/site-packages/ipykernel/__main__.py:38: SettingWithCopyWarning: \n",
      "A value is trying to be set on a copy of a slice from a DataFrame.\n",
      "Try using .loc[row_indexer,col_indexer] = value instead\n",
      "\n",
      "See the caveats in the documentation: http://pandas.pydata.org/pandas-docs/stable/indexing.html#indexing-view-versus-copy\n",
      "/home/pipe/anaconda2/lib/python2.7/site-packages/ipykernel/__main__.py:39: SettingWithCopyWarning: \n",
      "A value is trying to be set on a copy of a slice from a DataFrame.\n",
      "Try using .loc[row_indexer,col_indexer] = value instead\n",
      "\n",
      "See the caveats in the documentation: http://pandas.pydata.org/pandas-docs/stable/indexing.html#indexing-view-versus-copy\n"
     ]
    },
    {
     "data": {
      "text/html": [
       "<div>\n",
       "<table border=\"1\" class=\"dataframe\">\n",
       "  <thead>\n",
       "    <tr style=\"text-align: right;\">\n",
       "      <th></th>\n",
       "      <th>REDCODE</th>\n",
       "      <th>MNI_p</th>\n",
       "      <th>MNI_q</th>\n",
       "    </tr>\n",
       "  </thead>\n",
       "  <tbody>\n",
       "    <tr>\n",
       "      <th>0</th>\n",
       "      <td>020010101</td>\n",
       "      <td>4.7</td>\n",
       "      <td>5</td>\n",
       "    </tr>\n",
       "    <tr>\n",
       "      <th>1</th>\n",
       "      <td>020010201</td>\n",
       "      <td>1.4</td>\n",
       "      <td>3</td>\n",
       "    </tr>\n",
       "    <tr>\n",
       "      <th>2</th>\n",
       "      <td>020010202</td>\n",
       "      <td>0.6</td>\n",
       "      <td>1</td>\n",
       "    </tr>\n",
       "    <tr>\n",
       "      <th>3</th>\n",
       "      <td>020010203</td>\n",
       "      <td>1.0</td>\n",
       "      <td>2</td>\n",
       "    </tr>\n",
       "    <tr>\n",
       "      <th>4</th>\n",
       "      <td>020010204</td>\n",
       "      <td>0.2</td>\n",
       "      <td>0</td>\n",
       "    </tr>\n",
       "  </tbody>\n",
       "</table>\n",
       "</div>"
      ],
      "text/plain": [
       "     REDCODE  MNI_p  MNI_q\n",
       "0  020010101    4.7      5\n",
       "1  020010201    1.4      3\n",
       "2  020010202    0.6      1\n",
       "3  020010203    1.0      2\n",
       "4  020010204    0.2      0"
      ]
     },
     "execution_count": 4,
     "metadata": {},
     "output_type": "execute_result"
    }
   ],
   "source": [
    "#8 es universitario completo\n",
    "data = getPercent(dataset = radiosRedatam,string = ['MNI_8'])\n",
    "data.head()"
   ]
  },
  {
   "cell_type": "markdown",
   "metadata": {},
   "source": [
    "# Cargo carto"
   ]
  },
  {
   "cell_type": "code",
   "execution_count": 5,
   "metadata": {
    "collapsed": false
   },
   "outputs": [
    {
     "name": "stdout",
     "output_type": "stream",
     "text": [
      "(13446, 13)\n"
     ]
    },
    {
     "data": {
      "text/html": [
       "<div>\n",
       "<table border=\"1\" class=\"dataframe\">\n",
       "  <thead>\n",
       "    <tr style=\"text-align: right;\">\n",
       "      <th></th>\n",
       "      <th>AREA</th>\n",
       "      <th>DEPARTAMEN</th>\n",
       "      <th>DEPTO</th>\n",
       "      <th>FRAC</th>\n",
       "      <th>LINK</th>\n",
       "      <th>PERIMETER</th>\n",
       "      <th>PROV</th>\n",
       "      <th>RADIO</th>\n",
       "      <th>RADPAIS_</th>\n",
       "      <th>RADPAIS_ID</th>\n",
       "      <th>REDCODE</th>\n",
       "      <th>TIPO</th>\n",
       "      <th>geometry</th>\n",
       "    </tr>\n",
       "  </thead>\n",
       "  <tbody>\n",
       "    <tr>\n",
       "      <th>0</th>\n",
       "      <td>16948780.0</td>\n",
       "      <td>06252</td>\n",
       "      <td>252</td>\n",
       "      <td>01</td>\n",
       "      <td>062520101</td>\n",
       "      <td>26902.490</td>\n",
       "      <td>06</td>\n",
       "      <td>01</td>\n",
       "      <td>26690</td>\n",
       "      <td>26690</td>\n",
       "      <td>062520101</td>\n",
       "      <td>M</td>\n",
       "      <td>POLYGON ((4158793.5 6185928, 4158824.25 618588...</td>\n",
       "    </tr>\n",
       "    <tr>\n",
       "      <th>1</th>\n",
       "      <td>12351870.0</td>\n",
       "      <td>06252</td>\n",
       "      <td>252</td>\n",
       "      <td>01</td>\n",
       "      <td>062520102</td>\n",
       "      <td>30469.020</td>\n",
       "      <td>06</td>\n",
       "      <td>02</td>\n",
       "      <td>26706</td>\n",
       "      <td>26707</td>\n",
       "      <td>062520102</td>\n",
       "      <td>M</td>\n",
       "      <td>POLYGON ((4159777 6185123.5, 4159847 6185160, ...</td>\n",
       "    </tr>\n",
       "    <tr>\n",
       "      <th>2</th>\n",
       "      <td>11063170.0</td>\n",
       "      <td>06252</td>\n",
       "      <td>252</td>\n",
       "      <td>02</td>\n",
       "      <td>062520208</td>\n",
       "      <td>25350.040</td>\n",
       "      <td>06</td>\n",
       "      <td>08</td>\n",
       "      <td>26721</td>\n",
       "      <td>26723</td>\n",
       "      <td>062520208</td>\n",
       "      <td>U</td>\n",
       "      <td>POLYGON ((4161392.5 6184536.5, 4161399.75 6184...</td>\n",
       "    </tr>\n",
       "    <tr>\n",
       "      <th>3</th>\n",
       "      <td>796720.3</td>\n",
       "      <td>06252</td>\n",
       "      <td>252</td>\n",
       "      <td>02</td>\n",
       "      <td>062520201</td>\n",
       "      <td>6843.383</td>\n",
       "      <td>06</td>\n",
       "      <td>01</td>\n",
       "      <td>26743</td>\n",
       "      <td>26743</td>\n",
       "      <td>062520201</td>\n",
       "      <td>U</td>\n",
       "      <td>POLYGON ((4164165.5 6183091, 4164223.5 6183021...</td>\n",
       "    </tr>\n",
       "    <tr>\n",
       "      <th>4</th>\n",
       "      <td>2996825.0</td>\n",
       "      <td>06252</td>\n",
       "      <td>252</td>\n",
       "      <td>02</td>\n",
       "      <td>062520202</td>\n",
       "      <td>8393.760</td>\n",
       "      <td>06</td>\n",
       "      <td>02</td>\n",
       "      <td>26749</td>\n",
       "      <td>26749</td>\n",
       "      <td>062520202</td>\n",
       "      <td>U</td>\n",
       "      <td>POLYGON ((4166774.25 6182343.5, 4166960.5 6182...</td>\n",
       "    </tr>\n",
       "  </tbody>\n",
       "</table>\n",
       "</div>"
      ],
      "text/plain": [
       "         AREA DEPARTAMEN DEPTO FRAC       LINK  PERIMETER PROV RADIO  \\\n",
       "0  16948780.0      06252   252   01  062520101  26902.490   06    01   \n",
       "1  12351870.0      06252   252   01  062520102  30469.020   06    02   \n",
       "2  11063170.0      06252   252   02  062520208  25350.040   06    08   \n",
       "3    796720.3      06252   252   02  062520201   6843.383   06    01   \n",
       "4   2996825.0      06252   252   02  062520202   8393.760   06    02   \n",
       "\n",
       "   RADPAIS_  RADPAIS_ID    REDCODE TIPO  \\\n",
       "0     26690       26690  062520101    M   \n",
       "1     26706       26707  062520102    M   \n",
       "2     26721       26723  062520208    U   \n",
       "3     26743       26743  062520201    U   \n",
       "4     26749       26749  062520202    U   \n",
       "\n",
       "                                            geometry  \n",
       "0  POLYGON ((4158793.5 6185928, 4158824.25 618588...  \n",
       "1  POLYGON ((4159777 6185123.5, 4159847 6185160, ...  \n",
       "2  POLYGON ((4161392.5 6184536.5, 4161399.75 6184...  \n",
       "3  POLYGON ((4164165.5 6183091, 4164223.5 6183021...  \n",
       "4  POLYGON ((4166774.25 6182343.5, 4166960.5 6182...  "
      ]
     },
     "execution_count": 5,
     "metadata": {},
     "output_type": "execute_result"
    }
   ],
   "source": [
    "#radios de caba y pba sacados de cartografia oficial de indec\n",
    "mapa = gpd.GeoDataFrame.from_file('data/shapes/agba/agba.shp')\n",
    "print mapa.shape\n",
    "mapa.head()"
   ]
  },
  {
   "cell_type": "markdown",
   "metadata": {},
   "source": [
    " # Mergeo"
   ]
  },
  {
   "cell_type": "code",
   "execution_count": 6,
   "metadata": {
    "collapsed": true
   },
   "outputs": [],
   "source": [
    "mapa = mapa.merge(data,on='REDCODE')"
   ]
  },
  {
   "cell_type": "code",
   "execution_count": 8,
   "metadata": {
    "collapsed": true
   },
   "outputs": [],
   "source": [
    "mapa.to_file('data/shapes/agbaEduc')"
   ]
  },
  {
   "cell_type": "code",
   "execution_count": null,
   "metadata": {
    "collapsed": true
   },
   "outputs": [],
   "source": []
  }
 ],
 "metadata": {
  "kernelspec": {
   "display_name": "Python 2",
   "language": "python",
   "name": "python2"
  },
  "language_info": {
   "codemirror_mode": {
    "name": "ipython",
    "version": 2
   },
   "file_extension": ".py",
   "mimetype": "text/x-python",
   "name": "python",
   "nbconvert_exporter": "python",
   "pygments_lexer": "ipython2",
   "version": "2.7.13"
  }
 },
 "nbformat": 4,
 "nbformat_minor": 2
}
