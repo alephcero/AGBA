{
 "cells": [
  {
   "cell_type": "code",
   "execution_count": 1,
   "metadata": {
    "collapsed": true
   },
   "outputs": [],
   "source": [
    "import pandas as pd\n",
    "import geopandas as gpd\n",
    "import matplotlib.pyplot as plt\n",
    "%matplotlib inline\n",
    "\n"
   ]
  },
  {
   "cell_type": "code",
   "execution_count": 2,
   "metadata": {
    "collapsed": true
   },
   "outputs": [],
   "source": [
    "import pandas as pd\n",
    "import pysal as ps\n",
    "import numpy as np\n",
    "'''\n",
    "Arguments\n",
    "---------\n",
    "dbfile  : DBF file - Input to be imported\n",
    "upper   : Condition - If true, make column heads upper case\n",
    "'''\n",
    "def dbf2DF(dbfile, upper=True): #Reads in DBF files and returns Pandas DF\n",
    "    db = ps.open(dbfile) #Pysal to open DBF\n",
    "    d = {col: db.by_col(col) for col in db.header} #Convert dbf to dictionary\n",
    "    pandasDF = pd.DataFrame(db[:]) #Convert to Pandas DF\n",
    "    pandasDF.columns=db.header\n",
    "    pandasDF.dropna(inplace=True)\n",
    "    return pandasDF\n",
    "\n",
    "def getPercent(dataset,string):\n",
    "    '''\n",
    "    Arguments\n",
    "    ---------\n",
    "    dataset  : pandas datafra- Input to produce the % column on\n",
    "    string   : String or list of strings - variable or variables to convert to %\n",
    "    '''\n",
    "    mask = (dataset.iloc[:,dataset.shape[1]-1] == 0)\n",
    "    dataset = dataset.loc[~mask,:]\n",
    "    variable = np.zeros(dataset.shape[0])\n",
    "    \n",
    "    #if me need to aggregate more columns in the same category:\n",
    "    if len(string) > 1:\n",
    "        variable = dataset.loc[:,string].sum(axis=1)\n",
    "        \n",
    "    else:\n",
    "        variable = dataset[string].iloc[:,0]\n",
    "    \n",
    "    newVariableName = string[0].split('_')[0]\n",
    "    \n",
    "    dataset[newVariableName + '_p'] = variable/dataset.iloc[:,dataset.shape[1]-1] * 100\n",
    "    dataset[newVariableName + '_p'] = dataset[newVariableName + '_p'].map(lambda x: round(x,1))\n",
    "    dataset = dataset.loc[:,['REDCODE',newVariableName + '_p']]\n",
    "    dataset.dropna(inplace=True)\n",
    "    try:\n",
    "        dataset[newVariableName + '_q'] = pd.qcut(dataset[newVariableName + '_p'], 10,labels=False)\n",
    "        dataset[newVariableName + '_q'] = dataset[newVariableName + '_q'].map(lambda x: int(x))\n",
    "        return dataset\n",
    "    except ValueError:\n",
    "        print 'Can not be cut in 10 quantiles'"
   ]
  },
  {
   "cell_type": "markdown",
   "metadata": {},
   "source": [
    "# Cargo carto"
   ]
  },
  {
   "cell_type": "code",
   "execution_count": 3,
   "metadata": {
    "collapsed": false
   },
   "outputs": [
    {
     "name": "stdout",
     "output_type": "stream",
     "text": [
      "(13446, 13)\n"
     ]
    },
    {
     "data": {
      "text/html": [
       "<div>\n",
       "<table border=\"1\" class=\"dataframe\">\n",
       "  <thead>\n",
       "    <tr style=\"text-align: right;\">\n",
       "      <th></th>\n",
       "      <th>AREA</th>\n",
       "      <th>DEPARTAMEN</th>\n",
       "      <th>DEPTO</th>\n",
       "      <th>FRAC</th>\n",
       "      <th>LINK</th>\n",
       "      <th>PERIMETER</th>\n",
       "      <th>PROV</th>\n",
       "      <th>RADIO</th>\n",
       "      <th>RADPAIS_</th>\n",
       "      <th>RADPAIS_ID</th>\n",
       "      <th>REDCODE</th>\n",
       "      <th>TIPO</th>\n",
       "      <th>geometry</th>\n",
       "    </tr>\n",
       "  </thead>\n",
       "  <tbody>\n",
       "    <tr>\n",
       "      <th>0</th>\n",
       "      <td>16948780.0</td>\n",
       "      <td>06252</td>\n",
       "      <td>252</td>\n",
       "      <td>01</td>\n",
       "      <td>062520101</td>\n",
       "      <td>26902.490</td>\n",
       "      <td>06</td>\n",
       "      <td>01</td>\n",
       "      <td>26690</td>\n",
       "      <td>26690</td>\n",
       "      <td>062520101</td>\n",
       "      <td>M</td>\n",
       "      <td>POLYGON ((4158793.5 6185928, 4158824.25 618588...</td>\n",
       "    </tr>\n",
       "    <tr>\n",
       "      <th>1</th>\n",
       "      <td>12351870.0</td>\n",
       "      <td>06252</td>\n",
       "      <td>252</td>\n",
       "      <td>01</td>\n",
       "      <td>062520102</td>\n",
       "      <td>30469.020</td>\n",
       "      <td>06</td>\n",
       "      <td>02</td>\n",
       "      <td>26706</td>\n",
       "      <td>26707</td>\n",
       "      <td>062520102</td>\n",
       "      <td>M</td>\n",
       "      <td>POLYGON ((4159777 6185123.5, 4159847 6185160, ...</td>\n",
       "    </tr>\n",
       "    <tr>\n",
       "      <th>2</th>\n",
       "      <td>11063170.0</td>\n",
       "      <td>06252</td>\n",
       "      <td>252</td>\n",
       "      <td>02</td>\n",
       "      <td>062520208</td>\n",
       "      <td>25350.040</td>\n",
       "      <td>06</td>\n",
       "      <td>08</td>\n",
       "      <td>26721</td>\n",
       "      <td>26723</td>\n",
       "      <td>062520208</td>\n",
       "      <td>U</td>\n",
       "      <td>POLYGON ((4161392.5 6184536.5, 4161399.75 6184...</td>\n",
       "    </tr>\n",
       "    <tr>\n",
       "      <th>3</th>\n",
       "      <td>796720.3</td>\n",
       "      <td>06252</td>\n",
       "      <td>252</td>\n",
       "      <td>02</td>\n",
       "      <td>062520201</td>\n",
       "      <td>6843.383</td>\n",
       "      <td>06</td>\n",
       "      <td>01</td>\n",
       "      <td>26743</td>\n",
       "      <td>26743</td>\n",
       "      <td>062520201</td>\n",
       "      <td>U</td>\n",
       "      <td>POLYGON ((4164165.5 6183091, 4164223.5 6183021...</td>\n",
       "    </tr>\n",
       "    <tr>\n",
       "      <th>4</th>\n",
       "      <td>2996825.0</td>\n",
       "      <td>06252</td>\n",
       "      <td>252</td>\n",
       "      <td>02</td>\n",
       "      <td>062520202</td>\n",
       "      <td>8393.760</td>\n",
       "      <td>06</td>\n",
       "      <td>02</td>\n",
       "      <td>26749</td>\n",
       "      <td>26749</td>\n",
       "      <td>062520202</td>\n",
       "      <td>U</td>\n",
       "      <td>POLYGON ((4166774.25 6182343.5, 4166960.5 6182...</td>\n",
       "    </tr>\n",
       "  </tbody>\n",
       "</table>\n",
       "</div>"
      ],
      "text/plain": [
       "         AREA DEPARTAMEN DEPTO FRAC       LINK  PERIMETER PROV RADIO  \\\n",
       "0  16948780.0      06252   252   01  062520101  26902.490   06    01   \n",
       "1  12351870.0      06252   252   01  062520102  30469.020   06    02   \n",
       "2  11063170.0      06252   252   02  062520208  25350.040   06    08   \n",
       "3    796720.3      06252   252   02  062520201   6843.383   06    01   \n",
       "4   2996825.0      06252   252   02  062520202   8393.760   06    02   \n",
       "\n",
       "   RADPAIS_  RADPAIS_ID    REDCODE TIPO  \\\n",
       "0     26690       26690  062520101    M   \n",
       "1     26706       26707  062520102    M   \n",
       "2     26721       26723  062520208    U   \n",
       "3     26743       26743  062520201    U   \n",
       "4     26749       26749  062520202    U   \n",
       "\n",
       "                                            geometry  \n",
       "0  POLYGON ((4158793.5 6185928, 4158824.25 618588...  \n",
       "1  POLYGON ((4159777 6185123.5, 4159847 6185160, ...  \n",
       "2  POLYGON ((4161392.5 6184536.5, 4161399.75 6184...  \n",
       "3  POLYGON ((4164165.5 6183091, 4164223.5 6183021...  \n",
       "4  POLYGON ((4166774.25 6182343.5, 4166960.5 6182...  "
      ]
     },
     "execution_count": 3,
     "metadata": {},
     "output_type": "execute_result"
    }
   ],
   "source": [
    "#radios de caba y pba sacados de cartografia oficial de indec\n",
    "mapa = gpd.GeoDataFrame.from_file('data/shapes/agba/agba.shp')\n",
    "print mapa.shape\n",
    "mapa.head()"
   ]
  },
  {
   "cell_type": "markdown",
   "metadata": {},
   "source": [
    "# Cargo data"
   ]
  },
  {
   "cell_type": "markdown",
   "metadata": {},
   "source": [
    "## Educacion"
   ]
  },
  {
   "cell_type": "code",
   "execution_count": 4,
   "metadata": {
    "collapsed": false
   },
   "outputs": [
    {
     "data": {
      "text/html": [
       "<div>\n",
       "<table border=\"1\" class=\"dataframe\">\n",
       "  <thead>\n",
       "    <tr style=\"text-align: right;\">\n",
       "      <th></th>\n",
       "      <th>REDCODE</th>\n",
       "      <th>MNI_1</th>\n",
       "      <th>MNI_2</th>\n",
       "      <th>MNI_3</th>\n",
       "      <th>MNI_4</th>\n",
       "      <th>MNI_5</th>\n",
       "      <th>MNI_6</th>\n",
       "      <th>MNI_7</th>\n",
       "      <th>MNI_8</th>\n",
       "      <th>MNI_9</th>\n",
       "      <th>MNI_T</th>\n",
       "    </tr>\n",
       "  </thead>\n",
       "  <tbody>\n",
       "    <tr>\n",
       "      <th>0</th>\n",
       "      <td>020010101</td>\n",
       "      <td>1</td>\n",
       "      <td>9</td>\n",
       "      <td>6</td>\n",
       "      <td>17</td>\n",
       "      <td>11</td>\n",
       "      <td>4</td>\n",
       "      <td>1</td>\n",
       "      <td>3</td>\n",
       "      <td>3</td>\n",
       "      <td>55</td>\n",
       "    </tr>\n",
       "    <tr>\n",
       "      <th>1</th>\n",
       "      <td>020010201</td>\n",
       "      <td>0</td>\n",
       "      <td>49</td>\n",
       "      <td>22</td>\n",
       "      <td>31</td>\n",
       "      <td>37</td>\n",
       "      <td>3</td>\n",
       "      <td>4</td>\n",
       "      <td>4</td>\n",
       "      <td>8</td>\n",
       "      <td>158</td>\n",
       "    </tr>\n",
       "    <tr>\n",
       "      <th>2</th>\n",
       "      <td>020010202</td>\n",
       "      <td>1</td>\n",
       "      <td>36</td>\n",
       "      <td>19</td>\n",
       "      <td>28</td>\n",
       "      <td>32</td>\n",
       "      <td>1</td>\n",
       "      <td>6</td>\n",
       "      <td>2</td>\n",
       "      <td>0</td>\n",
       "      <td>125</td>\n",
       "    </tr>\n",
       "    <tr>\n",
       "      <th>3</th>\n",
       "      <td>020010203</td>\n",
       "      <td>0</td>\n",
       "      <td>29</td>\n",
       "      <td>12</td>\n",
       "      <td>23</td>\n",
       "      <td>25</td>\n",
       "      <td>2</td>\n",
       "      <td>4</td>\n",
       "      <td>1</td>\n",
       "      <td>5</td>\n",
       "      <td>101</td>\n",
       "    </tr>\n",
       "    <tr>\n",
       "      <th>4</th>\n",
       "      <td>020010204</td>\n",
       "      <td>1</td>\n",
       "      <td>39</td>\n",
       "      <td>25</td>\n",
       "      <td>34</td>\n",
       "      <td>47</td>\n",
       "      <td>3</td>\n",
       "      <td>2</td>\n",
       "      <td>0</td>\n",
       "      <td>7</td>\n",
       "      <td>158</td>\n",
       "    </tr>\n",
       "  </tbody>\n",
       "</table>\n",
       "</div>"
      ],
      "text/plain": [
       "     REDCODE  MNI_1  MNI_2  MNI_3  MNI_4  MNI_5  MNI_6  MNI_7  MNI_8  MNI_9  \\\n",
       "0  020010101      1      9      6     17     11      4      1      3      3   \n",
       "1  020010201      0     49     22     31     37      3      4      4      8   \n",
       "2  020010202      1     36     19     28     32      1      6      2      0   \n",
       "3  020010203      0     29     12     23     25      2      4      1      5   \n",
       "4  020010204      1     39     25     34     47      3      2      0      7   \n",
       "\n",
       "   MNI_T  \n",
       "0     55  \n",
       "1    158  \n",
       "2    125  \n",
       "3    101  \n",
       "4    158  "
      ]
     },
     "execution_count": 4,
     "metadata": {},
     "output_type": "execute_result"
    }
   ],
   "source": [
    "educ = dbf2DF('data/redatam/MNI.DBF')\n",
    "educ.head()"
   ]
  },
  {
   "cell_type": "code",
   "execution_count": 5,
   "metadata": {
    "collapsed": false
   },
   "outputs": [
    {
     "name": "stderr",
     "output_type": "stream",
     "text": [
      "/home/pipe/anaconda2/lib/python2.7/site-packages/ipykernel/__main__.py:38: SettingWithCopyWarning: \n",
      "A value is trying to be set on a copy of a slice from a DataFrame.\n",
      "Try using .loc[row_indexer,col_indexer] = value instead\n",
      "\n",
      "See the caveats in the documentation: http://pandas.pydata.org/pandas-docs/stable/indexing.html#indexing-view-versus-copy\n",
      "/home/pipe/anaconda2/lib/python2.7/site-packages/ipykernel/__main__.py:39: SettingWithCopyWarning: \n",
      "A value is trying to be set on a copy of a slice from a DataFrame.\n",
      "Try using .loc[row_indexer,col_indexer] = value instead\n",
      "\n",
      "See the caveats in the documentation: http://pandas.pydata.org/pandas-docs/stable/indexing.html#indexing-view-versus-copy\n"
     ]
    },
    {
     "data": {
      "text/html": [
       "<div>\n",
       "<table border=\"1\" class=\"dataframe\">\n",
       "  <thead>\n",
       "    <tr style=\"text-align: right;\">\n",
       "      <th></th>\n",
       "      <th>REDCODE</th>\n",
       "      <th>MNI_p</th>\n",
       "      <th>MNI_q</th>\n",
       "    </tr>\n",
       "  </thead>\n",
       "  <tbody>\n",
       "    <tr>\n",
       "      <th>0</th>\n",
       "      <td>020010101</td>\n",
       "      <td>5.5</td>\n",
       "      <td>5</td>\n",
       "    </tr>\n",
       "    <tr>\n",
       "      <th>1</th>\n",
       "      <td>020010201</td>\n",
       "      <td>2.5</td>\n",
       "      <td>3</td>\n",
       "    </tr>\n",
       "    <tr>\n",
       "      <th>2</th>\n",
       "      <td>020010202</td>\n",
       "      <td>1.6</td>\n",
       "      <td>2</td>\n",
       "    </tr>\n",
       "    <tr>\n",
       "      <th>3</th>\n",
       "      <td>020010203</td>\n",
       "      <td>1.0</td>\n",
       "      <td>2</td>\n",
       "    </tr>\n",
       "    <tr>\n",
       "      <th>4</th>\n",
       "      <td>020010204</td>\n",
       "      <td>0.0</td>\n",
       "      <td>0</td>\n",
       "    </tr>\n",
       "  </tbody>\n",
       "</table>\n",
       "</div>"
      ],
      "text/plain": [
       "     REDCODE  MNI_p  MNI_q\n",
       "0  020010101    5.5      5\n",
       "1  020010201    2.5      3\n",
       "2  020010202    1.6      2\n",
       "3  020010203    1.0      2\n",
       "4  020010204    0.0      0"
      ]
     },
     "execution_count": 5,
     "metadata": {},
     "output_type": "execute_result"
    }
   ],
   "source": [
    "#8 es universitario completo\n",
    "educ = getPercent(dataset = educ,string = ['MNI_8'])\n",
    "educ.head()"
   ]
  },
  {
   "cell_type": "code",
   "execution_count": 6,
   "metadata": {
    "collapsed": false
   },
   "outputs": [
    {
     "name": "stdout",
     "output_type": "stream",
     "text": [
      "0.998588095415\n",
      "0.999553770638\n"
     ]
    }
   ],
   "source": [
    "print educ.REDCODE.isin(mapa.REDCODE).sum()*1./educ.shape[0]\n",
    "print mapa.REDCODE.isin(educ.REDCODE).sum()*1./mapa.shape[0]\n",
    "mapa = mapa.merge(educ,on='REDCODE')"
   ]
  },
  {
   "cell_type": "markdown",
   "metadata": {},
   "source": [
    "## Celular"
   ]
  },
  {
   "cell_type": "code",
   "execution_count": 7,
   "metadata": {
    "collapsed": false
   },
   "outputs": [
    {
     "data": {
      "text/html": [
       "<div>\n",
       "<table border=\"1\" class=\"dataframe\">\n",
       "  <thead>\n",
       "    <tr style=\"text-align: right;\">\n",
       "      <th></th>\n",
       "      <th>REDCODE</th>\n",
       "      <th>H2819C_1</th>\n",
       "      <th>H2819C_2</th>\n",
       "      <th>H2819C_T</th>\n",
       "    </tr>\n",
       "  </thead>\n",
       "  <tbody>\n",
       "    <tr>\n",
       "      <th>0</th>\n",
       "      <td>020010101</td>\n",
       "      <td>47</td>\n",
       "      <td>10</td>\n",
       "      <td>57</td>\n",
       "    </tr>\n",
       "    <tr>\n",
       "      <th>1</th>\n",
       "      <td>020010201</td>\n",
       "      <td>121</td>\n",
       "      <td>40</td>\n",
       "      <td>161</td>\n",
       "    </tr>\n",
       "    <tr>\n",
       "      <th>2</th>\n",
       "      <td>020010202</td>\n",
       "      <td>115</td>\n",
       "      <td>13</td>\n",
       "      <td>128</td>\n",
       "    </tr>\n",
       "    <tr>\n",
       "      <th>3</th>\n",
       "      <td>020010203</td>\n",
       "      <td>85</td>\n",
       "      <td>19</td>\n",
       "      <td>104</td>\n",
       "    </tr>\n",
       "    <tr>\n",
       "      <th>4</th>\n",
       "      <td>020010204</td>\n",
       "      <td>140</td>\n",
       "      <td>23</td>\n",
       "      <td>163</td>\n",
       "    </tr>\n",
       "  </tbody>\n",
       "</table>\n",
       "</div>"
      ],
      "text/plain": [
       "     REDCODE  H2819C_1  H2819C_2  H2819C_T\n",
       "0  020010101        47        10        57\n",
       "1  020010201       121        40       161\n",
       "2  020010202       115        13       128\n",
       "3  020010203        85        19       104\n",
       "4  020010204       140        23       163"
      ]
     },
     "execution_count": 7,
     "metadata": {},
     "output_type": "execute_result"
    }
   ],
   "source": [
    "cell = dbf2DF('data/redatam/CELULAR.DBF')\n",
    "cell.head()"
   ]
  },
  {
   "cell_type": "code",
   "execution_count": 8,
   "metadata": {
    "collapsed": false
   },
   "outputs": [
    {
     "name": "stderr",
     "output_type": "stream",
     "text": [
      "/home/pipe/anaconda2/lib/python2.7/site-packages/ipykernel/__main__.py:38: SettingWithCopyWarning: \n",
      "A value is trying to be set on a copy of a slice from a DataFrame.\n",
      "Try using .loc[row_indexer,col_indexer] = value instead\n",
      "\n",
      "See the caveats in the documentation: http://pandas.pydata.org/pandas-docs/stable/indexing.html#indexing-view-versus-copy\n",
      "/home/pipe/anaconda2/lib/python2.7/site-packages/ipykernel/__main__.py:39: SettingWithCopyWarning: \n",
      "A value is trying to be set on a copy of a slice from a DataFrame.\n",
      "Try using .loc[row_indexer,col_indexer] = value instead\n",
      "\n",
      "See the caveats in the documentation: http://pandas.pydata.org/pandas-docs/stable/indexing.html#indexing-view-versus-copy\n"
     ]
    },
    {
     "data": {
      "text/html": [
       "<div>\n",
       "<table border=\"1\" class=\"dataframe\">\n",
       "  <thead>\n",
       "    <tr style=\"text-align: right;\">\n",
       "      <th></th>\n",
       "      <th>REDCODE</th>\n",
       "      <th>H2819C_p</th>\n",
       "      <th>H2819C_q</th>\n",
       "    </tr>\n",
       "  </thead>\n",
       "  <tbody>\n",
       "    <tr>\n",
       "      <th>0</th>\n",
       "      <td>020010101</td>\n",
       "      <td>82.5</td>\n",
       "      <td>1</td>\n",
       "    </tr>\n",
       "    <tr>\n",
       "      <th>1</th>\n",
       "      <td>020010201</td>\n",
       "      <td>75.2</td>\n",
       "      <td>0</td>\n",
       "    </tr>\n",
       "    <tr>\n",
       "      <th>2</th>\n",
       "      <td>020010202</td>\n",
       "      <td>89.8</td>\n",
       "      <td>8</td>\n",
       "    </tr>\n",
       "    <tr>\n",
       "      <th>3</th>\n",
       "      <td>020010203</td>\n",
       "      <td>81.7</td>\n",
       "      <td>1</td>\n",
       "    </tr>\n",
       "    <tr>\n",
       "      <th>4</th>\n",
       "      <td>020010204</td>\n",
       "      <td>85.9</td>\n",
       "      <td>4</td>\n",
       "    </tr>\n",
       "  </tbody>\n",
       "</table>\n",
       "</div>"
      ],
      "text/plain": [
       "     REDCODE  H2819C_p  H2819C_q\n",
       "0  020010101      82.5         1\n",
       "1  020010201      75.2         0\n",
       "2  020010202      89.8         8\n",
       "3  020010203      81.7         1\n",
       "4  020010204      85.9         4"
      ]
     },
     "execution_count": 8,
     "metadata": {},
     "output_type": "execute_result"
    }
   ],
   "source": [
    "cell = getPercent(dataset = cell,string = ['H2819C_1'])\n",
    "cell.head()"
   ]
  },
  {
   "cell_type": "code",
   "execution_count": 9,
   "metadata": {
    "collapsed": false
   },
   "outputs": [
    {
     "name": "stdout",
     "output_type": "stream",
     "text": [
      "0.998513895081\n",
      "1.0\n"
     ]
    }
   ],
   "source": [
    "print cell.REDCODE.isin(mapa.REDCODE).sum()*1./cell.shape[0]\n",
    "print mapa.REDCODE.isin(cell.REDCODE).sum()*1./mapa.shape[0]\n",
    "mapa = mapa.merge(cell,on='REDCODE')"
   ]
  },
  {
   "cell_type": "markdown",
   "metadata": {},
   "source": [
    "## Computadora"
   ]
  },
  {
   "cell_type": "code",
   "execution_count": 10,
   "metadata": {
    "collapsed": false
   },
   "outputs": [
    {
     "data": {
      "text/html": [
       "<div>\n",
       "<table border=\"1\" class=\"dataframe\">\n",
       "  <thead>\n",
       "    <tr style=\"text-align: right;\">\n",
       "      <th></th>\n",
       "      <th>REDCODE</th>\n",
       "      <th>H2819B_1</th>\n",
       "      <th>H2819B_2</th>\n",
       "      <th>H2819B_T</th>\n",
       "    </tr>\n",
       "  </thead>\n",
       "  <tbody>\n",
       "    <tr>\n",
       "      <th>0</th>\n",
       "      <td>020010101</td>\n",
       "      <td>25</td>\n",
       "      <td>32</td>\n",
       "      <td>57</td>\n",
       "    </tr>\n",
       "    <tr>\n",
       "      <th>1</th>\n",
       "      <td>020010201</td>\n",
       "      <td>42</td>\n",
       "      <td>119</td>\n",
       "      <td>161</td>\n",
       "    </tr>\n",
       "    <tr>\n",
       "      <th>2</th>\n",
       "      <td>020010202</td>\n",
       "      <td>24</td>\n",
       "      <td>104</td>\n",
       "      <td>128</td>\n",
       "    </tr>\n",
       "    <tr>\n",
       "      <th>3</th>\n",
       "      <td>020010203</td>\n",
       "      <td>43</td>\n",
       "      <td>61</td>\n",
       "      <td>104</td>\n",
       "    </tr>\n",
       "    <tr>\n",
       "      <th>4</th>\n",
       "      <td>020010204</td>\n",
       "      <td>67</td>\n",
       "      <td>96</td>\n",
       "      <td>163</td>\n",
       "    </tr>\n",
       "  </tbody>\n",
       "</table>\n",
       "</div>"
      ],
      "text/plain": [
       "     REDCODE  H2819B_1  H2819B_2  H2819B_T\n",
       "0  020010101        25        32        57\n",
       "1  020010201        42       119       161\n",
       "2  020010202        24       104       128\n",
       "3  020010203        43        61       104\n",
       "4  020010204        67        96       163"
      ]
     },
     "execution_count": 10,
     "metadata": {},
     "output_type": "execute_result"
    }
   ],
   "source": [
    "comp = dbf2DF('data/redatam/COMPUTER.DBF')\n",
    "comp.head()"
   ]
  },
  {
   "cell_type": "code",
   "execution_count": 11,
   "metadata": {
    "collapsed": false
   },
   "outputs": [
    {
     "name": "stderr",
     "output_type": "stream",
     "text": [
      "/home/pipe/anaconda2/lib/python2.7/site-packages/ipykernel/__main__.py:38: SettingWithCopyWarning: \n",
      "A value is trying to be set on a copy of a slice from a DataFrame.\n",
      "Try using .loc[row_indexer,col_indexer] = value instead\n",
      "\n",
      "See the caveats in the documentation: http://pandas.pydata.org/pandas-docs/stable/indexing.html#indexing-view-versus-copy\n",
      "/home/pipe/anaconda2/lib/python2.7/site-packages/ipykernel/__main__.py:39: SettingWithCopyWarning: \n",
      "A value is trying to be set on a copy of a slice from a DataFrame.\n",
      "Try using .loc[row_indexer,col_indexer] = value instead\n",
      "\n",
      "See the caveats in the documentation: http://pandas.pydata.org/pandas-docs/stable/indexing.html#indexing-view-versus-copy\n"
     ]
    },
    {
     "data": {
      "text/html": [
       "<div>\n",
       "<table border=\"1\" class=\"dataframe\">\n",
       "  <thead>\n",
       "    <tr style=\"text-align: right;\">\n",
       "      <th></th>\n",
       "      <th>REDCODE</th>\n",
       "      <th>H2819B_p</th>\n",
       "      <th>H2819B_q</th>\n",
       "    </tr>\n",
       "  </thead>\n",
       "  <tbody>\n",
       "    <tr>\n",
       "      <th>0</th>\n",
       "      <td>020010101</td>\n",
       "      <td>43.9</td>\n",
       "      <td>3</td>\n",
       "    </tr>\n",
       "    <tr>\n",
       "      <th>1</th>\n",
       "      <td>020010201</td>\n",
       "      <td>26.1</td>\n",
       "      <td>0</td>\n",
       "    </tr>\n",
       "    <tr>\n",
       "      <th>2</th>\n",
       "      <td>020010202</td>\n",
       "      <td>18.8</td>\n",
       "      <td>0</td>\n",
       "    </tr>\n",
       "    <tr>\n",
       "      <th>3</th>\n",
       "      <td>020010203</td>\n",
       "      <td>41.3</td>\n",
       "      <td>2</td>\n",
       "    </tr>\n",
       "    <tr>\n",
       "      <th>4</th>\n",
       "      <td>020010204</td>\n",
       "      <td>41.1</td>\n",
       "      <td>2</td>\n",
       "    </tr>\n",
       "  </tbody>\n",
       "</table>\n",
       "</div>"
      ],
      "text/plain": [
       "     REDCODE  H2819B_p  H2819B_q\n",
       "0  020010101      43.9         3\n",
       "1  020010201      26.1         0\n",
       "2  020010202      18.8         0\n",
       "3  020010203      41.3         2\n",
       "4  020010204      41.1         2"
      ]
     },
     "execution_count": 11,
     "metadata": {},
     "output_type": "execute_result"
    }
   ],
   "source": [
    "comp = getPercent(dataset = comp,string = ['H2819B_1'])\n",
    "comp.head()"
   ]
  },
  {
   "cell_type": "code",
   "execution_count": 12,
   "metadata": {
    "collapsed": false
   },
   "outputs": [
    {
     "name": "stdout",
     "output_type": "stream",
     "text": [
      "0.998513895081\n",
      "1.0\n"
     ]
    }
   ],
   "source": [
    "print comp.REDCODE.isin(mapa.REDCODE).sum()*1./comp.shape[0]\n",
    "print mapa.REDCODE.isin(comp.REDCODE).sum()*1./mapa.shape[0]\n",
    "mapa = mapa.merge(comp,on='REDCODE')"
   ]
  },
  {
   "cell_type": "markdown",
   "metadata": {},
   "source": [
    "## Viviendas vacias"
   ]
  },
  {
   "cell_type": "code",
   "execution_count": 13,
   "metadata": {
    "collapsed": false
   },
   "outputs": [
    {
     "data": {
      "text/html": [
       "<div>\n",
       "<table border=\"1\" class=\"dataframe\">\n",
       "  <thead>\n",
       "    <tr style=\"text-align: right;\">\n",
       "      <th></th>\n",
       "      <th>REDCODE</th>\n",
       "      <th>V02_1</th>\n",
       "      <th>V02_2</th>\n",
       "      <th>V02_3</th>\n",
       "      <th>V02_4</th>\n",
       "      <th>V02_5</th>\n",
       "      <th>V02_6</th>\n",
       "      <th>V02_7</th>\n",
       "      <th>V02_T</th>\n",
       "    </tr>\n",
       "  </thead>\n",
       "  <tbody>\n",
       "    <tr>\n",
       "      <th>0</th>\n",
       "      <td>020010101</td>\n",
       "      <td>35</td>\n",
       "      <td>10</td>\n",
       "      <td>4</td>\n",
       "      <td>0</td>\n",
       "      <td>1</td>\n",
       "      <td>1</td>\n",
       "      <td>0</td>\n",
       "      <td>51</td>\n",
       "    </tr>\n",
       "    <tr>\n",
       "      <th>1</th>\n",
       "      <td>020010201</td>\n",
       "      <td>134</td>\n",
       "      <td>5</td>\n",
       "      <td>0</td>\n",
       "      <td>0</td>\n",
       "      <td>0</td>\n",
       "      <td>0</td>\n",
       "      <td>9</td>\n",
       "      <td>148</td>\n",
       "    </tr>\n",
       "    <tr>\n",
       "      <th>2</th>\n",
       "      <td>020010202</td>\n",
       "      <td>114</td>\n",
       "      <td>6</td>\n",
       "      <td>0</td>\n",
       "      <td>0</td>\n",
       "      <td>0</td>\n",
       "      <td>0</td>\n",
       "      <td>0</td>\n",
       "      <td>120</td>\n",
       "    </tr>\n",
       "    <tr>\n",
       "      <th>3</th>\n",
       "      <td>020010203</td>\n",
       "      <td>98</td>\n",
       "      <td>5</td>\n",
       "      <td>0</td>\n",
       "      <td>0</td>\n",
       "      <td>0</td>\n",
       "      <td>0</td>\n",
       "      <td>1</td>\n",
       "      <td>104</td>\n",
       "    </tr>\n",
       "    <tr>\n",
       "      <th>4</th>\n",
       "      <td>020010204</td>\n",
       "      <td>110</td>\n",
       "      <td>3</td>\n",
       "      <td>0</td>\n",
       "      <td>0</td>\n",
       "      <td>0</td>\n",
       "      <td>0</td>\n",
       "      <td>6</td>\n",
       "      <td>119</td>\n",
       "    </tr>\n",
       "  </tbody>\n",
       "</table>\n",
       "</div>"
      ],
      "text/plain": [
       "     REDCODE  V02_1  V02_2  V02_3  V02_4  V02_5  V02_6  V02_7  V02_T\n",
       "0  020010101     35     10      4      0      1      1      0     51\n",
       "1  020010201    134      5      0      0      0      0      9    148\n",
       "2  020010202    114      6      0      0      0      0      0    120\n",
       "3  020010203     98      5      0      0      0      0      1    104\n",
       "4  020010204    110      3      0      0      0      0      6    119"
      ]
     },
     "execution_count": 13,
     "metadata": {},
     "output_type": "execute_result"
    }
   ],
   "source": [
    "empty = dbf2DF('data/redatam/EMPTY.DBF')\n",
    "empty.head()"
   ]
  },
  {
   "cell_type": "code",
   "execution_count": 14,
   "metadata": {
    "collapsed": false
   },
   "outputs": [
    {
     "name": "stderr",
     "output_type": "stream",
     "text": [
      "/home/pipe/anaconda2/lib/python2.7/site-packages/ipykernel/__main__.py:38: SettingWithCopyWarning: \n",
      "A value is trying to be set on a copy of a slice from a DataFrame.\n",
      "Try using .loc[row_indexer,col_indexer] = value instead\n",
      "\n",
      "See the caveats in the documentation: http://pandas.pydata.org/pandas-docs/stable/indexing.html#indexing-view-versus-copy\n",
      "/home/pipe/anaconda2/lib/python2.7/site-packages/ipykernel/__main__.py:39: SettingWithCopyWarning: \n",
      "A value is trying to be set on a copy of a slice from a DataFrame.\n",
      "Try using .loc[row_indexer,col_indexer] = value instead\n",
      "\n",
      "See the caveats in the documentation: http://pandas.pydata.org/pandas-docs/stable/indexing.html#indexing-view-versus-copy\n"
     ]
    },
    {
     "data": {
      "text/html": [
       "<div>\n",
       "<table border=\"1\" class=\"dataframe\">\n",
       "  <thead>\n",
       "    <tr style=\"text-align: right;\">\n",
       "      <th></th>\n",
       "      <th>REDCODE</th>\n",
       "      <th>V02_p</th>\n",
       "      <th>V02_q</th>\n",
       "    </tr>\n",
       "  </thead>\n",
       "  <tbody>\n",
       "    <tr>\n",
       "      <th>0</th>\n",
       "      <td>020010101</td>\n",
       "      <td>11.8</td>\n",
       "      <td>7</td>\n",
       "    </tr>\n",
       "    <tr>\n",
       "      <th>1</th>\n",
       "      <td>020010201</td>\n",
       "      <td>6.1</td>\n",
       "      <td>4</td>\n",
       "    </tr>\n",
       "    <tr>\n",
       "      <th>2</th>\n",
       "      <td>020010202</td>\n",
       "      <td>0.0</td>\n",
       "      <td>0</td>\n",
       "    </tr>\n",
       "    <tr>\n",
       "      <th>3</th>\n",
       "      <td>020010203</td>\n",
       "      <td>1.0</td>\n",
       "      <td>0</td>\n",
       "    </tr>\n",
       "    <tr>\n",
       "      <th>4</th>\n",
       "      <td>020010204</td>\n",
       "      <td>5.0</td>\n",
       "      <td>3</td>\n",
       "    </tr>\n",
       "  </tbody>\n",
       "</table>\n",
       "</div>"
      ],
      "text/plain": [
       "     REDCODE  V02_p  V02_q\n",
       "0  020010101   11.8      7\n",
       "1  020010201    6.1      4\n",
       "2  020010202    0.0      0\n",
       "3  020010203    1.0      0\n",
       "4  020010204    5.0      3"
      ]
     },
     "execution_count": 14,
     "metadata": {},
     "output_type": "execute_result"
    }
   ],
   "source": [
    "empty = getPercent(dataset = empty,string = ['V02_3','V02_4','V02_5','V02_6','V02_7'])\n",
    "empty.head()"
   ]
  },
  {
   "cell_type": "code",
   "execution_count": 15,
   "metadata": {
    "collapsed": false
   },
   "outputs": [
    {
     "name": "stdout",
     "output_type": "stream",
     "text": [
      "0.998217203982\n",
      "1.0\n"
     ]
    }
   ],
   "source": [
    "print empty.REDCODE.isin(mapa.REDCODE).sum()*1./empty.shape[0]\n",
    "print mapa.REDCODE.isin(empty.REDCODE).sum()*1./mapa.shape[0]\n",
    "mapa = mapa.merge(empty,on='REDCODE')"
   ]
  },
  {
   "cell_type": "markdown",
   "metadata": {},
   "source": [
    "## Inmigracion"
   ]
  },
  {
   "cell_type": "code",
   "execution_count": 16,
   "metadata": {
    "collapsed": false
   },
   "outputs": [
    {
     "data": {
      "text/html": [
       "<div>\n",
       "<table border=\"1\" class=\"dataframe\">\n",
       "  <thead>\n",
       "    <tr style=\"text-align: right;\">\n",
       "      <th></th>\n",
       "      <th>REDCODE</th>\n",
       "      <th>P05_1</th>\n",
       "      <th>P05_2</th>\n",
       "      <th>P05_T</th>\n",
       "    </tr>\n",
       "  </thead>\n",
       "  <tbody>\n",
       "    <tr>\n",
       "      <th>0</th>\n",
       "      <td>020010101</td>\n",
       "      <td>61</td>\n",
       "      <td>30</td>\n",
       "      <td>91</td>\n",
       "    </tr>\n",
       "    <tr>\n",
       "      <th>1</th>\n",
       "      <td>020010201</td>\n",
       "      <td>123</td>\n",
       "      <td>38</td>\n",
       "      <td>161</td>\n",
       "    </tr>\n",
       "    <tr>\n",
       "      <th>2</th>\n",
       "      <td>020010202</td>\n",
       "      <td>93</td>\n",
       "      <td>39</td>\n",
       "      <td>132</td>\n",
       "    </tr>\n",
       "    <tr>\n",
       "      <th>3</th>\n",
       "      <td>020010203</td>\n",
       "      <td>85</td>\n",
       "      <td>19</td>\n",
       "      <td>104</td>\n",
       "    </tr>\n",
       "    <tr>\n",
       "      <th>4</th>\n",
       "      <td>020010204</td>\n",
       "      <td>139</td>\n",
       "      <td>25</td>\n",
       "      <td>164</td>\n",
       "    </tr>\n",
       "  </tbody>\n",
       "</table>\n",
       "</div>"
      ],
      "text/plain": [
       "     REDCODE  P05_1  P05_2  P05_T\n",
       "0  020010101     61     30     91\n",
       "1  020010201    123     38    161\n",
       "2  020010202     93     39    132\n",
       "3  020010203     85     19    104\n",
       "4  020010204    139     25    164"
      ]
     },
     "execution_count": 16,
     "metadata": {},
     "output_type": "execute_result"
    }
   ],
   "source": [
    "inmi = dbf2DF('data/redatam/INMIGRATION.DBF')\n",
    "inmi.head()"
   ]
  },
  {
   "cell_type": "code",
   "execution_count": 17,
   "metadata": {
    "collapsed": false
   },
   "outputs": [
    {
     "name": "stderr",
     "output_type": "stream",
     "text": [
      "/home/pipe/anaconda2/lib/python2.7/site-packages/ipykernel/__main__.py:38: SettingWithCopyWarning: \n",
      "A value is trying to be set on a copy of a slice from a DataFrame.\n",
      "Try using .loc[row_indexer,col_indexer] = value instead\n",
      "\n",
      "See the caveats in the documentation: http://pandas.pydata.org/pandas-docs/stable/indexing.html#indexing-view-versus-copy\n",
      "/home/pipe/anaconda2/lib/python2.7/site-packages/ipykernel/__main__.py:39: SettingWithCopyWarning: \n",
      "A value is trying to be set on a copy of a slice from a DataFrame.\n",
      "Try using .loc[row_indexer,col_indexer] = value instead\n",
      "\n",
      "See the caveats in the documentation: http://pandas.pydata.org/pandas-docs/stable/indexing.html#indexing-view-versus-copy\n"
     ]
    },
    {
     "data": {
      "text/html": [
       "<div>\n",
       "<table border=\"1\" class=\"dataframe\">\n",
       "  <thead>\n",
       "    <tr style=\"text-align: right;\">\n",
       "      <th></th>\n",
       "      <th>REDCODE</th>\n",
       "      <th>P05_p</th>\n",
       "      <th>P05_q</th>\n",
       "    </tr>\n",
       "  </thead>\n",
       "  <tbody>\n",
       "    <tr>\n",
       "      <th>0</th>\n",
       "      <td>020010101</td>\n",
       "      <td>67.0</td>\n",
       "      <td>0</td>\n",
       "    </tr>\n",
       "    <tr>\n",
       "      <th>1</th>\n",
       "      <td>020010201</td>\n",
       "      <td>76.4</td>\n",
       "      <td>0</td>\n",
       "    </tr>\n",
       "    <tr>\n",
       "      <th>2</th>\n",
       "      <td>020010202</td>\n",
       "      <td>70.5</td>\n",
       "      <td>0</td>\n",
       "    </tr>\n",
       "    <tr>\n",
       "      <th>3</th>\n",
       "      <td>020010203</td>\n",
       "      <td>81.7</td>\n",
       "      <td>0</td>\n",
       "    </tr>\n",
       "    <tr>\n",
       "      <th>4</th>\n",
       "      <td>020010204</td>\n",
       "      <td>84.8</td>\n",
       "      <td>1</td>\n",
       "    </tr>\n",
       "  </tbody>\n",
       "</table>\n",
       "</div>"
      ],
      "text/plain": [
       "     REDCODE  P05_p  P05_q\n",
       "0  020010101   67.0      0\n",
       "1  020010201   76.4      0\n",
       "2  020010202   70.5      0\n",
       "3  020010203   81.7      0\n",
       "4  020010204   84.8      1"
      ]
     },
     "execution_count": 17,
     "metadata": {},
     "output_type": "execute_result"
    }
   ],
   "source": [
    "inmi = getPercent(dataset = inmi,string = ['P05_1'])\n",
    "inmi.head()"
   ]
  },
  {
   "cell_type": "code",
   "execution_count": 18,
   "metadata": {
    "collapsed": false
   },
   "outputs": [
    {
     "name": "stdout",
     "output_type": "stream",
     "text": [
      "0.998513895081\n",
      "1.0\n"
     ]
    }
   ],
   "source": [
    "print inmi.REDCODE.isin(mapa.REDCODE).sum()*1./inmi.shape[0]\n",
    "print mapa.REDCODE.isin(inmi.REDCODE).sum()*1./mapa.shape[0]\n",
    "mapa = mapa.merge(inmi,on='REDCODE')"
   ]
  },
  {
   "cell_type": "markdown",
   "metadata": {},
   "source": [
    "## Legalidad\n",
    "\n",
    "1 Propietario de la vivienda y del terreno\t\n",
    "2 Propietario sólo de la vivienda\t\n",
    "3 Inquilino\t\n",
    "4 Ocupante por préstamo\t\n",
    "5 Ocupante por trabajo\t\n",
    "6 Otra situación\t\n",
    "T Total\n"
   ]
  },
  {
   "cell_type": "code",
   "execution_count": 19,
   "metadata": {
    "collapsed": false
   },
   "outputs": [
    {
     "data": {
      "text/html": [
       "<div>\n",
       "<table border=\"1\" class=\"dataframe\">\n",
       "  <thead>\n",
       "    <tr style=\"text-align: right;\">\n",
       "      <th></th>\n",
       "      <th>REDCODE</th>\n",
       "      <th>PROP_1</th>\n",
       "      <th>PROP_2</th>\n",
       "      <th>PROP_3</th>\n",
       "      <th>PROP_4</th>\n",
       "      <th>PROP_5</th>\n",
       "      <th>PROP_6</th>\n",
       "      <th>PROP_T</th>\n",
       "    </tr>\n",
       "  </thead>\n",
       "  <tbody>\n",
       "    <tr>\n",
       "      <th>0</th>\n",
       "      <td>020010101</td>\n",
       "      <td>16</td>\n",
       "      <td>6</td>\n",
       "      <td>22</td>\n",
       "      <td>2</td>\n",
       "      <td>6</td>\n",
       "      <td>5</td>\n",
       "      <td>57</td>\n",
       "    </tr>\n",
       "    <tr>\n",
       "      <th>1</th>\n",
       "      <td>020010201</td>\n",
       "      <td>103</td>\n",
       "      <td>26</td>\n",
       "      <td>20</td>\n",
       "      <td>7</td>\n",
       "      <td>1</td>\n",
       "      <td>4</td>\n",
       "      <td>161</td>\n",
       "    </tr>\n",
       "    <tr>\n",
       "      <th>2</th>\n",
       "      <td>020010202</td>\n",
       "      <td>72</td>\n",
       "      <td>35</td>\n",
       "      <td>14</td>\n",
       "      <td>4</td>\n",
       "      <td>1</td>\n",
       "      <td>2</td>\n",
       "      <td>128</td>\n",
       "    </tr>\n",
       "    <tr>\n",
       "      <th>3</th>\n",
       "      <td>020010203</td>\n",
       "      <td>63</td>\n",
       "      <td>21</td>\n",
       "      <td>11</td>\n",
       "      <td>6</td>\n",
       "      <td>0</td>\n",
       "      <td>3</td>\n",
       "      <td>104</td>\n",
       "    </tr>\n",
       "    <tr>\n",
       "      <th>4</th>\n",
       "      <td>020010204</td>\n",
       "      <td>85</td>\n",
       "      <td>36</td>\n",
       "      <td>5</td>\n",
       "      <td>8</td>\n",
       "      <td>0</td>\n",
       "      <td>29</td>\n",
       "      <td>163</td>\n",
       "    </tr>\n",
       "  </tbody>\n",
       "</table>\n",
       "</div>"
      ],
      "text/plain": [
       "     REDCODE  PROP_1  PROP_2  PROP_3  PROP_4  PROP_5  PROP_6  PROP_T\n",
       "0  020010101      16       6      22       2       6       5      57\n",
       "1  020010201     103      26      20       7       1       4     161\n",
       "2  020010202      72      35      14       4       1       2     128\n",
       "3  020010203      63      21      11       6       0       3     104\n",
       "4  020010204      85      36       5       8       0      29     163"
      ]
     },
     "execution_count": 19,
     "metadata": {},
     "output_type": "execute_result"
    }
   ],
   "source": [
    "legalOrig = dbf2DF('data/redatam/LEGAL.DBF')\n",
    "legalOrig.head()"
   ]
  },
  {
   "cell_type": "markdown",
   "metadata": {},
   "source": [
    "### Tenencia legal"
   ]
  },
  {
   "cell_type": "code",
   "execution_count": 20,
   "metadata": {
    "collapsed": false
   },
   "outputs": [
    {
     "name": "stderr",
     "output_type": "stream",
     "text": [
      "/home/pipe/anaconda2/lib/python2.7/site-packages/ipykernel/__main__.py:38: SettingWithCopyWarning: \n",
      "A value is trying to be set on a copy of a slice from a DataFrame.\n",
      "Try using .loc[row_indexer,col_indexer] = value instead\n",
      "\n",
      "See the caveats in the documentation: http://pandas.pydata.org/pandas-docs/stable/indexing.html#indexing-view-versus-copy\n",
      "/home/pipe/anaconda2/lib/python2.7/site-packages/ipykernel/__main__.py:39: SettingWithCopyWarning: \n",
      "A value is trying to be set on a copy of a slice from a DataFrame.\n",
      "Try using .loc[row_indexer,col_indexer] = value instead\n",
      "\n",
      "See the caveats in the documentation: http://pandas.pydata.org/pandas-docs/stable/indexing.html#indexing-view-versus-copy\n"
     ]
    },
    {
     "data": {
      "text/html": [
       "<div>\n",
       "<table border=\"1\" class=\"dataframe\">\n",
       "  <thead>\n",
       "    <tr style=\"text-align: right;\">\n",
       "      <th></th>\n",
       "      <th>REDCODE</th>\n",
       "      <th>PROP_p</th>\n",
       "      <th>PROP_q</th>\n",
       "    </tr>\n",
       "  </thead>\n",
       "  <tbody>\n",
       "    <tr>\n",
       "      <th>0</th>\n",
       "      <td>020010101</td>\n",
       "      <td>66.7</td>\n",
       "      <td>0</td>\n",
       "    </tr>\n",
       "    <tr>\n",
       "      <th>1</th>\n",
       "      <td>020010201</td>\n",
       "      <td>76.4</td>\n",
       "      <td>1</td>\n",
       "    </tr>\n",
       "    <tr>\n",
       "      <th>2</th>\n",
       "      <td>020010202</td>\n",
       "      <td>67.2</td>\n",
       "      <td>0</td>\n",
       "    </tr>\n",
       "    <tr>\n",
       "      <th>3</th>\n",
       "      <td>020010203</td>\n",
       "      <td>71.2</td>\n",
       "      <td>0</td>\n",
       "    </tr>\n",
       "    <tr>\n",
       "      <th>4</th>\n",
       "      <td>020010204</td>\n",
       "      <td>55.2</td>\n",
       "      <td>0</td>\n",
       "    </tr>\n",
       "  </tbody>\n",
       "</table>\n",
       "</div>"
      ],
      "text/plain": [
       "     REDCODE  PROP_p  PROP_q\n",
       "0  020010101    66.7       0\n",
       "1  020010201    76.4       1\n",
       "2  020010202    67.2       0\n",
       "3  020010203    71.2       0\n",
       "4  020010204    55.2       0"
      ]
     },
     "execution_count": 20,
     "metadata": {},
     "output_type": "execute_result"
    }
   ],
   "source": [
    "legal = getPercent(dataset = legalOrig,string = ['PROP_1','PROP_3'])\n",
    "legal.head()"
   ]
  },
  {
   "cell_type": "code",
   "execution_count": 21,
   "metadata": {
    "collapsed": false
   },
   "outputs": [],
   "source": [
    "legal.columns = ['REDCODE','TENREG_p','TENREG_q']"
   ]
  },
  {
   "cell_type": "code",
   "execution_count": 22,
   "metadata": {
    "collapsed": false
   },
   "outputs": [
    {
     "name": "stdout",
     "output_type": "stream",
     "text": [
      "0.998513895081\n",
      "1.0\n"
     ]
    }
   ],
   "source": [
    "print legal.REDCODE.isin(mapa.REDCODE).sum()*1./legal.shape[0]\n",
    "print mapa.REDCODE.isin(legal.REDCODE).sum()*1./mapa.shape[0]\n",
    "mapa = mapa.merge(legal,on='REDCODE')"
   ]
  },
  {
   "cell_type": "markdown",
   "metadata": {},
   "source": [
    "### Propietarios"
   ]
  },
  {
   "cell_type": "code",
   "execution_count": 23,
   "metadata": {
    "collapsed": false
   },
   "outputs": [
    {
     "name": "stderr",
     "output_type": "stream",
     "text": [
      "/home/pipe/anaconda2/lib/python2.7/site-packages/ipykernel/__main__.py:38: SettingWithCopyWarning: \n",
      "A value is trying to be set on a copy of a slice from a DataFrame.\n",
      "Try using .loc[row_indexer,col_indexer] = value instead\n",
      "\n",
      "See the caveats in the documentation: http://pandas.pydata.org/pandas-docs/stable/indexing.html#indexing-view-versus-copy\n",
      "/home/pipe/anaconda2/lib/python2.7/site-packages/ipykernel/__main__.py:39: SettingWithCopyWarning: \n",
      "A value is trying to be set on a copy of a slice from a DataFrame.\n",
      "Try using .loc[row_indexer,col_indexer] = value instead\n",
      "\n",
      "See the caveats in the documentation: http://pandas.pydata.org/pandas-docs/stable/indexing.html#indexing-view-versus-copy\n"
     ]
    },
    {
     "data": {
      "text/html": [
       "<div>\n",
       "<table border=\"1\" class=\"dataframe\">\n",
       "  <thead>\n",
       "    <tr style=\"text-align: right;\">\n",
       "      <th></th>\n",
       "      <th>REDCODE</th>\n",
       "      <th>PROP_p</th>\n",
       "      <th>PROP_q</th>\n",
       "    </tr>\n",
       "  </thead>\n",
       "  <tbody>\n",
       "    <tr>\n",
       "      <th>0</th>\n",
       "      <td>020010101</td>\n",
       "      <td>28.1</td>\n",
       "      <td>0</td>\n",
       "    </tr>\n",
       "    <tr>\n",
       "      <th>1</th>\n",
       "      <td>020010201</td>\n",
       "      <td>64.0</td>\n",
       "      <td>2</td>\n",
       "    </tr>\n",
       "    <tr>\n",
       "      <th>2</th>\n",
       "      <td>020010202</td>\n",
       "      <td>56.3</td>\n",
       "      <td>1</td>\n",
       "    </tr>\n",
       "    <tr>\n",
       "      <th>3</th>\n",
       "      <td>020010203</td>\n",
       "      <td>60.6</td>\n",
       "      <td>2</td>\n",
       "    </tr>\n",
       "    <tr>\n",
       "      <th>4</th>\n",
       "      <td>020010204</td>\n",
       "      <td>52.1</td>\n",
       "      <td>1</td>\n",
       "    </tr>\n",
       "  </tbody>\n",
       "</table>\n",
       "</div>"
      ],
      "text/plain": [
       "     REDCODE  PROP_p  PROP_q\n",
       "0  020010101    28.1       0\n",
       "1  020010201    64.0       2\n",
       "2  020010202    56.3       1\n",
       "3  020010203    60.6       2\n",
       "4  020010204    52.1       1"
      ]
     },
     "execution_count": 23,
     "metadata": {},
     "output_type": "execute_result"
    }
   ],
   "source": [
    "owner = getPercent(dataset = legalOrig,string = ['PROP_1'])\n",
    "owner.head()"
   ]
  },
  {
   "cell_type": "code",
   "execution_count": 24,
   "metadata": {
    "collapsed": false
   },
   "outputs": [
    {
     "name": "stdout",
     "output_type": "stream",
     "text": [
      "0.998513895081\n",
      "1.0\n"
     ]
    }
   ],
   "source": [
    "print owner.REDCODE.isin(mapa.REDCODE).sum()*1./owner.shape[0]\n",
    "print mapa.REDCODE.isin(owner.REDCODE).sum()*1./mapa.shape[0]\n",
    "mapa = mapa.merge(owner,on='REDCODE')"
   ]
  },
  {
   "cell_type": "markdown",
   "metadata": {},
   "source": [
    "### Inquilinos"
   ]
  },
  {
   "cell_type": "code",
   "execution_count": 25,
   "metadata": {
    "collapsed": false
   },
   "outputs": [
    {
     "name": "stderr",
     "output_type": "stream",
     "text": [
      "/home/pipe/anaconda2/lib/python2.7/site-packages/ipykernel/__main__.py:38: SettingWithCopyWarning: \n",
      "A value is trying to be set on a copy of a slice from a DataFrame.\n",
      "Try using .loc[row_indexer,col_indexer] = value instead\n",
      "\n",
      "See the caveats in the documentation: http://pandas.pydata.org/pandas-docs/stable/indexing.html#indexing-view-versus-copy\n",
      "/home/pipe/anaconda2/lib/python2.7/site-packages/ipykernel/__main__.py:39: SettingWithCopyWarning: \n",
      "A value is trying to be set on a copy of a slice from a DataFrame.\n",
      "Try using .loc[row_indexer,col_indexer] = value instead\n",
      "\n",
      "See the caveats in the documentation: http://pandas.pydata.org/pandas-docs/stable/indexing.html#indexing-view-versus-copy\n"
     ]
    },
    {
     "data": {
      "text/html": [
       "<div>\n",
       "<table border=\"1\" class=\"dataframe\">\n",
       "  <thead>\n",
       "    <tr style=\"text-align: right;\">\n",
       "      <th></th>\n",
       "      <th>REDCODE</th>\n",
       "      <th>PROP_p</th>\n",
       "      <th>PROP_q</th>\n",
       "    </tr>\n",
       "  </thead>\n",
       "  <tbody>\n",
       "    <tr>\n",
       "      <th>0</th>\n",
       "      <td>020010101</td>\n",
       "      <td>38.6</td>\n",
       "      <td>9</td>\n",
       "    </tr>\n",
       "    <tr>\n",
       "      <th>1</th>\n",
       "      <td>020010201</td>\n",
       "      <td>12.4</td>\n",
       "      <td>3</td>\n",
       "    </tr>\n",
       "    <tr>\n",
       "      <th>2</th>\n",
       "      <td>020010202</td>\n",
       "      <td>10.9</td>\n",
       "      <td>3</td>\n",
       "    </tr>\n",
       "    <tr>\n",
       "      <th>3</th>\n",
       "      <td>020010203</td>\n",
       "      <td>10.6</td>\n",
       "      <td>3</td>\n",
       "    </tr>\n",
       "    <tr>\n",
       "      <th>4</th>\n",
       "      <td>020010204</td>\n",
       "      <td>3.1</td>\n",
       "      <td>0</td>\n",
       "    </tr>\n",
       "  </tbody>\n",
       "</table>\n",
       "</div>"
      ],
      "text/plain": [
       "     REDCODE  PROP_p  PROP_q\n",
       "0  020010101    38.6       9\n",
       "1  020010201    12.4       3\n",
       "2  020010202    10.9       3\n",
       "3  020010203    10.6       3\n",
       "4  020010204     3.1       0"
      ]
     },
     "execution_count": 25,
     "metadata": {},
     "output_type": "execute_result"
    }
   ],
   "source": [
    "rent = getPercent(dataset = legalOrig,string = ['PROP_3'])\n",
    "rent.head()"
   ]
  },
  {
   "cell_type": "code",
   "execution_count": 26,
   "metadata": {
    "collapsed": true
   },
   "outputs": [],
   "source": [
    "rent.columns = ['REDCODE','INQ_p','INQ_q']"
   ]
  },
  {
   "cell_type": "code",
   "execution_count": 27,
   "metadata": {
    "collapsed": false
   },
   "outputs": [
    {
     "name": "stdout",
     "output_type": "stream",
     "text": [
      "0.998513895081\n",
      "1.0\n"
     ]
    }
   ],
   "source": [
    "print rent.REDCODE.isin(mapa.REDCODE).sum()*1./rent.shape[0]\n",
    "print mapa.REDCODE.isin(rent.REDCODE).sum()*1./mapa.shape[0]\n",
    "mapa = mapa.merge(rent,on='REDCODE')"
   ]
  },
  {
   "cell_type": "markdown",
   "metadata": {},
   "source": [
    "# Guardo archivo final"
   ]
  },
  {
   "cell_type": "code",
   "execution_count": 28,
   "metadata": {
    "collapsed": false
   },
   "outputs": [
    {
     "data": {
      "text/html": [
       "<div>\n",
       "<table border=\"1\" class=\"dataframe\">\n",
       "  <thead>\n",
       "    <tr style=\"text-align: right;\">\n",
       "      <th></th>\n",
       "      <th>AREA</th>\n",
       "      <th>DEPARTAMEN</th>\n",
       "      <th>DEPTO</th>\n",
       "      <th>FRAC</th>\n",
       "      <th>LINK</th>\n",
       "      <th>PERIMETER</th>\n",
       "      <th>PROV</th>\n",
       "      <th>RADIO</th>\n",
       "      <th>RADPAIS_</th>\n",
       "      <th>RADPAIS_ID</th>\n",
       "      <th>...</th>\n",
       "      <th>V02_p</th>\n",
       "      <th>V02_q</th>\n",
       "      <th>P05_p</th>\n",
       "      <th>P05_q</th>\n",
       "      <th>TENREG_p</th>\n",
       "      <th>TENREG_q</th>\n",
       "      <th>PROP_p</th>\n",
       "      <th>PROP_q</th>\n",
       "      <th>INQ_p</th>\n",
       "      <th>INQ_q</th>\n",
       "    </tr>\n",
       "  </thead>\n",
       "  <tbody>\n",
       "    <tr>\n",
       "      <th>0</th>\n",
       "      <td>16948780.0</td>\n",
       "      <td>06252</td>\n",
       "      <td>252</td>\n",
       "      <td>01</td>\n",
       "      <td>062520101</td>\n",
       "      <td>26902.490</td>\n",
       "      <td>06</td>\n",
       "      <td>01</td>\n",
       "      <td>26690</td>\n",
       "      <td>26690</td>\n",
       "      <td>...</td>\n",
       "      <td>8.0</td>\n",
       "      <td>5</td>\n",
       "      <td>86.6</td>\n",
       "      <td>2</td>\n",
       "      <td>67.5</td>\n",
       "      <td>0</td>\n",
       "      <td>62.5</td>\n",
       "      <td>2</td>\n",
       "      <td>5.0</td>\n",
       "      <td>0</td>\n",
       "    </tr>\n",
       "    <tr>\n",
       "      <th>1</th>\n",
       "      <td>12351870.0</td>\n",
       "      <td>06252</td>\n",
       "      <td>252</td>\n",
       "      <td>01</td>\n",
       "      <td>062520102</td>\n",
       "      <td>30469.020</td>\n",
       "      <td>06</td>\n",
       "      <td>02</td>\n",
       "      <td>26706</td>\n",
       "      <td>26707</td>\n",
       "      <td>...</td>\n",
       "      <td>5.9</td>\n",
       "      <td>4</td>\n",
       "      <td>92.6</td>\n",
       "      <td>6</td>\n",
       "      <td>82.4</td>\n",
       "      <td>2</td>\n",
       "      <td>74.5</td>\n",
       "      <td>6</td>\n",
       "      <td>7.8</td>\n",
       "      <td>1</td>\n",
       "    </tr>\n",
       "    <tr>\n",
       "      <th>2</th>\n",
       "      <td>11063170.0</td>\n",
       "      <td>06252</td>\n",
       "      <td>252</td>\n",
       "      <td>02</td>\n",
       "      <td>062520208</td>\n",
       "      <td>25350.040</td>\n",
       "      <td>06</td>\n",
       "      <td>08</td>\n",
       "      <td>26721</td>\n",
       "      <td>26723</td>\n",
       "      <td>...</td>\n",
       "      <td>15.6</td>\n",
       "      <td>8</td>\n",
       "      <td>88.4</td>\n",
       "      <td>2</td>\n",
       "      <td>75.4</td>\n",
       "      <td>0</td>\n",
       "      <td>68.1</td>\n",
       "      <td>4</td>\n",
       "      <td>7.2</td>\n",
       "      <td>1</td>\n",
       "    </tr>\n",
       "    <tr>\n",
       "      <th>3</th>\n",
       "      <td>796720.3</td>\n",
       "      <td>06252</td>\n",
       "      <td>252</td>\n",
       "      <td>02</td>\n",
       "      <td>062520201</td>\n",
       "      <td>6843.383</td>\n",
       "      <td>06</td>\n",
       "      <td>01</td>\n",
       "      <td>26743</td>\n",
       "      <td>26743</td>\n",
       "      <td>...</td>\n",
       "      <td>46.9</td>\n",
       "      <td>9</td>\n",
       "      <td>96.2</td>\n",
       "      <td>9</td>\n",
       "      <td>91.3</td>\n",
       "      <td>7</td>\n",
       "      <td>82.7</td>\n",
       "      <td>9</td>\n",
       "      <td>8.7</td>\n",
       "      <td>2</td>\n",
       "    </tr>\n",
       "    <tr>\n",
       "      <th>4</th>\n",
       "      <td>2996825.0</td>\n",
       "      <td>06252</td>\n",
       "      <td>252</td>\n",
       "      <td>02</td>\n",
       "      <td>062520202</td>\n",
       "      <td>8393.760</td>\n",
       "      <td>06</td>\n",
       "      <td>02</td>\n",
       "      <td>26749</td>\n",
       "      <td>26749</td>\n",
       "      <td>...</td>\n",
       "      <td>52.5</td>\n",
       "      <td>9</td>\n",
       "      <td>92.9</td>\n",
       "      <td>6</td>\n",
       "      <td>94.3</td>\n",
       "      <td>9</td>\n",
       "      <td>80.1</td>\n",
       "      <td>8</td>\n",
       "      <td>14.2</td>\n",
       "      <td>4</td>\n",
       "    </tr>\n",
       "  </tbody>\n",
       "</table>\n",
       "<p>5 rows × 29 columns</p>\n",
       "</div>"
      ],
      "text/plain": [
       "         AREA DEPARTAMEN DEPTO FRAC       LINK  PERIMETER PROV RADIO  \\\n",
       "0  16948780.0      06252   252   01  062520101  26902.490   06    01   \n",
       "1  12351870.0      06252   252   01  062520102  30469.020   06    02   \n",
       "2  11063170.0      06252   252   02  062520208  25350.040   06    08   \n",
       "3    796720.3      06252   252   02  062520201   6843.383   06    01   \n",
       "4   2996825.0      06252   252   02  062520202   8393.760   06    02   \n",
       "\n",
       "   RADPAIS_  RADPAIS_ID  ...   V02_p V02_q P05_p  P05_q  TENREG_p  TENREG_q  \\\n",
       "0     26690       26690  ...     8.0     5  86.6      2      67.5         0   \n",
       "1     26706       26707  ...     5.9     4  92.6      6      82.4         2   \n",
       "2     26721       26723  ...    15.6     8  88.4      2      75.4         0   \n",
       "3     26743       26743  ...    46.9     9  96.2      9      91.3         7   \n",
       "4     26749       26749  ...    52.5     9  92.9      6      94.3         9   \n",
       "\n",
       "   PROP_p  PROP_q  INQ_p  INQ_q  \n",
       "0    62.5       2    5.0      0  \n",
       "1    74.5       6    7.8      1  \n",
       "2    68.1       4    7.2      1  \n",
       "3    82.7       9    8.7      2  \n",
       "4    80.1       8   14.2      4  \n",
       "\n",
       "[5 rows x 29 columns]"
      ]
     },
     "execution_count": 28,
     "metadata": {},
     "output_type": "execute_result"
    }
   ],
   "source": [
    "mapa.head()"
   ]
  },
  {
   "cell_type": "code",
   "execution_count": 29,
   "metadata": {
    "collapsed": true
   },
   "outputs": [],
   "source": [
    "mapa.to_file('data/shapes/agbaData')"
   ]
  },
  {
   "cell_type": "code",
   "execution_count": null,
   "metadata": {
    "collapsed": true
   },
   "outputs": [],
   "source": []
  }
 ],
 "metadata": {
  "kernelspec": {
   "display_name": "Python 2",
   "language": "python",
   "name": "python2"
  },
  "language_info": {
   "codemirror_mode": {
    "name": "ipython",
    "version": 2
   },
   "file_extension": ".py",
   "mimetype": "text/x-python",
   "name": "python",
   "nbconvert_exporter": "python",
   "pygments_lexer": "ipython2",
   "version": "2.7.13"
  }
 },
 "nbformat": 4,
 "nbformat_minor": 2
}
