{
 "cells": [
  {
   "cell_type": "code",
   "execution_count": 1,
   "metadata": {
    "collapsed": true
   },
   "outputs": [],
   "source": [
    "import pandas as pd\n",
    "import geopandas as gpd\n",
    "import matplotlib.pyplot as plt\n",
    "%matplotlib inline\n",
    "\n",
    "plt.rcParams['figure.figsize'] = (10.0, 10.0)"
   ]
  },
  {
   "cell_type": "code",
   "execution_count": 2,
   "metadata": {
    "collapsed": true
   },
   "outputs": [],
   "source": [
    "departamentos = {\n",
    "    'Comuna 1':'02001',\n",
    "    'Comuna 2':'02002',\n",
    "    'Comuna 3':'02003',\n",
    "    'Comuna 4':'02004',\n",
    "    'Comuna 5':'02005',\n",
    "    'Comuna 6':'02006',\n",
    "    'Comuna 7':'02007',\n",
    "    'Comuna 8':'02008',\n",
    "    'Comuna 9':'02009',\n",
    "    'Comuna 10':'02010',\n",
    "    'Comuna 11':'02011',\n",
    "    'Comuna 12':'02012',\n",
    "    'Comuna 13':'02013',\n",
    "    'Comuna 14':'02014',\n",
    "    'Comuna 15':'02015',\n",
    "    'ALMIRANTE BROWN':'06028',\n",
    "    'AVELLANEDA':'06035',\n",
    "    'BERAZATEGUI':'06091',\n",
    "    'ESCOBAR':'06252',\n",
    "    'ESTEBAN ECHEVERRIA':'06260',\n",
    "    'EZEIZA':'06270',\n",
    "    'FLORENCIO VARELA':'06274',\n",
    "    'GENERAL RODRIGUEZ':'06364',\n",
    "    'GENERAL SAN MARTIN':'06371',\n",
    "    'HURLINGHAM':'06408',\n",
    "    'ITUZAINGO':'06410',\n",
    "    'JOSE C PAZ':'06412',\n",
    "    'LA MATANZA':'06427',\n",
    "    'LANUS':'06434',\n",
    "    'LOMAS DE ZAMORA':'06490',\n",
    "    'MALVINAS ARGENTINAS':'06515',\n",
    "    'MARCOS PAZ':'06525',\n",
    "    'MERLO':'06539',\n",
    "    'MORENO':'06560',\n",
    "    'MORON':'06568',\n",
    "    'PILAR':'06638',\n",
    "    'PRESIDENTE PERON':'06648',\n",
    "    'QUILMES':'06658',\n",
    "    'SAN FERNANDO':'06749',\n",
    "    'SAN ISIDRO':'06756',\n",
    "    'SAN MIGUEL':'06760',\n",
    "    'SAN VICENTE':'06778',\n",
    "    'TIGRE':'06805',\n",
    "    'TRES DE FEBRERO':'06840',\n",
    "    'VICENTE LOPEZ':'06861'\n",
    "}"
   ]
  },
  {
   "cell_type": "code",
   "execution_count": 3,
   "metadata": {
    "collapsed": false
   },
   "outputs": [
    {
     "name": "stdout",
     "output_type": "stream",
     "text": [
      "\u001b[0m\u001b[01;32mcargarDataCartografia.ipynb\u001b[0m*  \u001b[01;32mcrearCartografiaAGBA.ipynb\u001b[0m*  \u001b[01;34mdata\u001b[0m/\r\n"
     ]
    }
   ],
   "source": [
    "ls"
   ]
  },
  {
   "cell_type": "code",
   "execution_count": 4,
   "metadata": {
    "collapsed": false
   },
   "outputs": [
    {
     "name": "stdout",
     "output_type": "stream",
     "text": [
      "(52800, 11)\n"
     ]
    },
    {
     "data": {
      "text/html": [
       "<div>\n",
       "<table border=\"1\" class=\"dataframe\">\n",
       "  <thead>\n",
       "    <tr style=\"text-align: right;\">\n",
       "      <th></th>\n",
       "      <th>AREA</th>\n",
       "      <th>DEPTO</th>\n",
       "      <th>FRAC</th>\n",
       "      <th>LINK</th>\n",
       "      <th>PERIMETER</th>\n",
       "      <th>PROV</th>\n",
       "      <th>RADIO</th>\n",
       "      <th>RADPAIS_</th>\n",
       "      <th>RADPAIS_ID</th>\n",
       "      <th>TIPO</th>\n",
       "      <th>geometry</th>\n",
       "    </tr>\n",
       "  </thead>\n",
       "  <tbody>\n",
       "    <tr>\n",
       "      <th>0</th>\n",
       "      <td>207407200.0</td>\n",
       "      <td>077</td>\n",
       "      <td>01</td>\n",
       "      <td>380770101</td>\n",
       "      <td>77083.800</td>\n",
       "      <td>38</td>\n",
       "      <td>01</td>\n",
       "      <td>2</td>\n",
       "      <td>2</td>\n",
       "      <td>M</td>\n",
       "      <td>POLYGON ((3470906.5 7569104.5, 3470872.5 75691...</td>\n",
       "    </tr>\n",
       "    <tr>\n",
       "      <th>1</th>\n",
       "      <td>279095700.0</td>\n",
       "      <td>077</td>\n",
       "      <td>01</td>\n",
       "      <td>380770102</td>\n",
       "      <td>81703.910</td>\n",
       "      <td>38</td>\n",
       "      <td>02</td>\n",
       "      <td>3</td>\n",
       "      <td>3</td>\n",
       "      <td>R</td>\n",
       "      <td>POLYGON ((3487339 7588166.5, 3492205 7586542, ...</td>\n",
       "    </tr>\n",
       "    <tr>\n",
       "      <th>2</th>\n",
       "      <td>110506900.0</td>\n",
       "      <td>077</td>\n",
       "      <td>02</td>\n",
       "      <td>380770202</td>\n",
       "      <td>48507.350</td>\n",
       "      <td>38</td>\n",
       "      <td>02</td>\n",
       "      <td>4</td>\n",
       "      <td>4</td>\n",
       "      <td>M</td>\n",
       "      <td>POLYGON ((3495669.75 7577169.5, 3499717.5 7576...</td>\n",
       "    </tr>\n",
       "    <tr>\n",
       "      <th>3</th>\n",
       "      <td>151297.6</td>\n",
       "      <td>077</td>\n",
       "      <td>01</td>\n",
       "      <td>380770103</td>\n",
       "      <td>1736.481</td>\n",
       "      <td>38</td>\n",
       "      <td>03</td>\n",
       "      <td>5</td>\n",
       "      <td>5</td>\n",
       "      <td>U</td>\n",
       "      <td>POLYGON ((3494430.25 7574442.5, 3494745 757444...</td>\n",
       "    </tr>\n",
       "    <tr>\n",
       "      <th>4</th>\n",
       "      <td>462011900.0</td>\n",
       "      <td>077</td>\n",
       "      <td>03</td>\n",
       "      <td>380770302</td>\n",
       "      <td>126718.300</td>\n",
       "      <td>38</td>\n",
       "      <td>02</td>\n",
       "      <td>6</td>\n",
       "      <td>6</td>\n",
       "      <td>M</td>\n",
       "      <td>POLYGON ((3470906.5 7569104.5, 3471078.25 7569...</td>\n",
       "    </tr>\n",
       "  </tbody>\n",
       "</table>\n",
       "</div>"
      ],
      "text/plain": [
       "          AREA DEPTO FRAC       LINK   PERIMETER PROV RADIO  RADPAIS_  \\\n",
       "0  207407200.0   077   01  380770101   77083.800   38    01         2   \n",
       "1  279095700.0   077   01  380770102   81703.910   38    02         3   \n",
       "2  110506900.0   077   02  380770202   48507.350   38    02         4   \n",
       "3     151297.6   077   01  380770103    1736.481   38    03         5   \n",
       "4  462011900.0   077   03  380770302  126718.300   38    02         6   \n",
       "\n",
       "   RADPAIS_ID TIPO                                           geometry  \n",
       "0           2    M  POLYGON ((3470906.5 7569104.5, 3470872.5 75691...  \n",
       "1           3    R  POLYGON ((3487339 7588166.5, 3492205 7586542, ...  \n",
       "2           4    M  POLYGON ((3495669.75 7577169.5, 3499717.5 7576...  \n",
       "3           5    U  POLYGON ((3494430.25 7574442.5, 3494745 757444...  \n",
       "4           6    M  POLYGON ((3470906.5 7569104.5, 3471078.25 7569...  "
      ]
     },
     "execution_count": 4,
     "metadata": {},
     "output_type": "execute_result"
    }
   ],
   "source": [
    "#CARGO CARTOGRAFIA NACIONAL NO OFICIAL\n",
    "pais = gpd.GeoDataFrame.from_file('data/shapes/paisNoOficial/rad_paisp.shp')\n",
    "print pais.shape\n",
    "pais.head()"
   ]
  },
  {
   "cell_type": "code",
   "execution_count": 5,
   "metadata": {
    "collapsed": true
   },
   "outputs": [],
   "source": [
    "#CREO ID REDCODE PARA TODAS LAS PROVINCIAS PORQUE CABA NO TIENE LINK\n",
    "pais['REDCODE'] = pais.PROV + pais.DEPTO + pais.FRAC + pais.RADIO\n",
    "#CREO EL CODIGO DEPARTAMENTO PARA FILTRAR LOS PERTENECIENTES A PARTIDOS DEL AGBA\n",
    "pais['DEPARTAMENTO'] = pais.REDCODE.map(lambda x: x[0:5])"
   ]
  },
  {
   "cell_type": "code",
   "execution_count": 6,
   "metadata": {
    "collapsed": false
   },
   "outputs": [
    {
     "name": "stdout",
     "output_type": "stream",
     "text": [
      "(52800, 13)\n",
      "(13550, 13)\n"
     ]
    }
   ],
   "source": [
    "#FILTRO LOS RADIOS QUE ESTAN EN DEPARTAMENTO\n",
    "print pais.shape\n",
    "pais = pais.loc[pais.DEPARTAMENTO.isin(departamentos.values()),:]\n",
    "print pais.shape"
   ]
  },
  {
   "cell_type": "code",
   "execution_count": 7,
   "metadata": {
    "collapsed": false
   },
   "outputs": [],
   "source": [
    "#LOS RADIOS FALTANTES DE CABA SON URBANOS\n",
    "pais.TIPO.fillna('U',inplace=True)"
   ]
  },
  {
   "cell_type": "code",
   "execution_count": 8,
   "metadata": {
    "collapsed": true
   },
   "outputs": [],
   "source": [
    "pais = pais.loc[pais.TIPO!='R',:]\n"
   ]
  },
  {
   "cell_type": "code",
   "execution_count": 10,
   "metadata": {
    "collapsed": true
   },
   "outputs": [],
   "source": [
    "pais.to_file('data/shapes/agba')"
   ]
  },
  {
   "cell_type": "code",
   "execution_count": null,
   "metadata": {
    "collapsed": true
   },
   "outputs": [],
   "source": []
  }
 ],
 "metadata": {
  "kernelspec": {
   "display_name": "Python 2",
   "language": "python",
   "name": "python2"
  },
  "language_info": {
   "codemirror_mode": {
    "name": "ipython",
    "version": 2
   },
   "file_extension": ".py",
   "mimetype": "text/x-python",
   "name": "python",
   "nbconvert_exporter": "python",
   "pygments_lexer": "ipython2",
   "version": "2.7.13"
  }
 },
 "nbformat": 4,
 "nbformat_minor": 2
}
